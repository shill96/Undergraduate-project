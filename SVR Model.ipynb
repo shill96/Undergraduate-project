{
 "cells": [
  {
   "cell_type": "markdown",
   "metadata": {},
   "source": [
    "# SVR Model"
   ]
  },
  {
   "cell_type": "code",
   "execution_count": 153,
   "metadata": {},
   "outputs": [],
   "source": [
    "# import packages\n",
    "import pandas as pd\n",
    "import numpy as np\n",
    "import matplotlib.pyplot as plt\n",
    "import seaborn as sns\n",
    "%matplotlib inline\n",
    "import warnings\n",
    "warnings.filterwarnings('ignore')"
   ]
  },
  {
   "cell_type": "code",
   "execution_count": 154,
   "metadata": {},
   "outputs": [],
   "source": [
    "USD = pd.read_csv('USD.csv')"
   ]
  },
  {
   "cell_type": "code",
   "execution_count": 155,
   "metadata": {},
   "outputs": [
    {
     "data": {
      "text/html": [
       "<div>\n",
       "<style scoped>\n",
       "    .dataframe tbody tr th:only-of-type {\n",
       "        vertical-align: middle;\n",
       "    }\n",
       "\n",
       "    .dataframe tbody tr th {\n",
       "        vertical-align: top;\n",
       "    }\n",
       "\n",
       "    .dataframe thead th {\n",
       "        text-align: right;\n",
       "    }\n",
       "</style>\n",
       "<table border=\"1\" class=\"dataframe\">\n",
       "  <thead>\n",
       "    <tr style=\"text-align: right;\">\n",
       "      <th></th>\n",
       "      <th>Date</th>\n",
       "      <th>Price</th>\n",
       "      <th>diff_1</th>\n",
       "    </tr>\n",
       "  </thead>\n",
       "  <tbody>\n",
       "    <tr>\n",
       "      <th>0</th>\n",
       "      <td>2014-01-01</td>\n",
       "      <td>2.3650</td>\n",
       "      <td>NaN</td>\n",
       "    </tr>\n",
       "    <tr>\n",
       "      <th>1</th>\n",
       "      <td>2014-01-02</td>\n",
       "      <td>2.3350</td>\n",
       "      <td>-0.0300</td>\n",
       "    </tr>\n",
       "    <tr>\n",
       "      <th>2</th>\n",
       "      <td>2014-01-03</td>\n",
       "      <td>2.3350</td>\n",
       "      <td>0.0000</td>\n",
       "    </tr>\n",
       "    <tr>\n",
       "      <th>3</th>\n",
       "      <td>2014-01-06</td>\n",
       "      <td>2.3650</td>\n",
       "      <td>0.0300</td>\n",
       "    </tr>\n",
       "    <tr>\n",
       "      <th>4</th>\n",
       "      <td>2014-01-07</td>\n",
       "      <td>2.3515</td>\n",
       "      <td>-0.0135</td>\n",
       "    </tr>\n",
       "  </tbody>\n",
       "</table>\n",
       "</div>"
      ],
      "text/plain": [
       "         Date   Price  diff_1\n",
       "0  2014-01-01  2.3650     NaN\n",
       "1  2014-01-02  2.3350 -0.0300\n",
       "2  2014-01-03  2.3350  0.0000\n",
       "3  2014-01-06  2.3650  0.0300\n",
       "4  2014-01-07  2.3515 -0.0135"
      ]
     },
     "execution_count": 155,
     "metadata": {},
     "output_type": "execute_result"
    }
   ],
   "source": [
    "USD.head()"
   ]
  },
  {
   "cell_type": "code",
   "execution_count": 156,
   "metadata": {
    "scrolled": true
   },
   "outputs": [
    {
     "data": {
      "text/html": [
       "<div>\n",
       "<style scoped>\n",
       "    .dataframe tbody tr th:only-of-type {\n",
       "        vertical-align: middle;\n",
       "    }\n",
       "\n",
       "    .dataframe tbody tr th {\n",
       "        vertical-align: top;\n",
       "    }\n",
       "\n",
       "    .dataframe thead th {\n",
       "        text-align: right;\n",
       "    }\n",
       "</style>\n",
       "<table border=\"1\" class=\"dataframe\">\n",
       "  <thead>\n",
       "    <tr style=\"text-align: right;\">\n",
       "      <th></th>\n",
       "      <th>Date</th>\n",
       "      <th>Price</th>\n",
       "      <th>diff_1</th>\n",
       "    </tr>\n",
       "  </thead>\n",
       "  <tbody>\n",
       "    <tr>\n",
       "      <th>1</th>\n",
       "      <td>2014-01-02</td>\n",
       "      <td>2.3350</td>\n",
       "      <td>-0.0300</td>\n",
       "    </tr>\n",
       "    <tr>\n",
       "      <th>2</th>\n",
       "      <td>2014-01-03</td>\n",
       "      <td>2.3350</td>\n",
       "      <td>0.0000</td>\n",
       "    </tr>\n",
       "    <tr>\n",
       "      <th>3</th>\n",
       "      <td>2014-01-06</td>\n",
       "      <td>2.3650</td>\n",
       "      <td>0.0300</td>\n",
       "    </tr>\n",
       "    <tr>\n",
       "      <th>4</th>\n",
       "      <td>2014-01-07</td>\n",
       "      <td>2.3515</td>\n",
       "      <td>-0.0135</td>\n",
       "    </tr>\n",
       "    <tr>\n",
       "      <th>5</th>\n",
       "      <td>2014-01-08</td>\n",
       "      <td>2.3575</td>\n",
       "      <td>0.0060</td>\n",
       "    </tr>\n",
       "  </tbody>\n",
       "</table>\n",
       "</div>"
      ],
      "text/plain": [
       "         Date   Price  diff_1\n",
       "1  2014-01-02  2.3350 -0.0300\n",
       "2  2014-01-03  2.3350  0.0000\n",
       "3  2014-01-06  2.3650  0.0300\n",
       "4  2014-01-07  2.3515 -0.0135\n",
       "5  2014-01-08  2.3575  0.0060"
      ]
     },
     "execution_count": 156,
     "metadata": {},
     "output_type": "execute_result"
    }
   ],
   "source": [
    "# remove null values\n",
    "USD.dropna(inplace=True)\n",
    "USD.head()"
   ]
  },
  {
   "cell_type": "markdown",
   "metadata": {},
   "source": [
    "### Data Preprocessing"
   ]
  },
  {
   "cell_type": "code",
   "execution_count": 90,
   "metadata": {},
   "outputs": [],
   "source": [
    "# Changing data to supervised learning\n",
    "# adding moving average indicators of 5,10,20,60, 120 weeks and lag_1 as indicators\n",
    "# setting inputs values\n",
    "USD_supervised = pd.DataFrame()\n",
    "USD_supervised['MA5'] = USD['diff_1'].ewm(span=5).mean()\n",
    "USD_supervised['MA10']= USD['diff_1'].ewm(span=10).mean()\n",
    "USD_supervised['MA20']=USD['diff_1'].ewm(span=20).mean()\n",
    "USD_supervised['MA60']=USD['diff_1'].ewm(span=60).mean()\n",
    "USD_supervised['MA120']=USD['diff_1'].ewm(span=120).mean()\n",
    "USD_supervised['t'] = USD['diff_1'].shift(1)\n",
    "USD_supervised['t+1'] = USD['diff_1']"
   ]
  },
  {
   "cell_type": "code",
   "execution_count": 91,
   "metadata": {
    "scrolled": true
   },
   "outputs": [
    {
     "data": {
      "text/html": [
       "<div>\n",
       "<style scoped>\n",
       "    .dataframe tbody tr th:only-of-type {\n",
       "        vertical-align: middle;\n",
       "    }\n",
       "\n",
       "    .dataframe tbody tr th {\n",
       "        vertical-align: top;\n",
       "    }\n",
       "\n",
       "    .dataframe thead th {\n",
       "        text-align: right;\n",
       "    }\n",
       "</style>\n",
       "<table border=\"1\" class=\"dataframe\">\n",
       "  <thead>\n",
       "    <tr style=\"text-align: right;\">\n",
       "      <th></th>\n",
       "      <th>MA5</th>\n",
       "      <th>MA10</th>\n",
       "      <th>MA20</th>\n",
       "      <th>MA60</th>\n",
       "      <th>MA120</th>\n",
       "      <th>t</th>\n",
       "      <th>t+1</th>\n",
       "    </tr>\n",
       "  </thead>\n",
       "  <tbody>\n",
       "    <tr>\n",
       "      <th>1</th>\n",
       "      <td>-0.030000</td>\n",
       "      <td>-0.030000</td>\n",
       "      <td>-0.030000</td>\n",
       "      <td>-0.030000</td>\n",
       "      <td>-0.030000</td>\n",
       "      <td>NaN</td>\n",
       "      <td>-0.0300</td>\n",
       "    </tr>\n",
       "    <tr>\n",
       "      <th>2</th>\n",
       "      <td>-0.012000</td>\n",
       "      <td>-0.013500</td>\n",
       "      <td>-0.014250</td>\n",
       "      <td>-0.014750</td>\n",
       "      <td>-0.014875</td>\n",
       "      <td>-0.0300</td>\n",
       "      <td>0.0000</td>\n",
       "    </tr>\n",
       "    <tr>\n",
       "      <th>3</th>\n",
       "      <td>0.007895</td>\n",
       "      <td>0.003987</td>\n",
       "      <td>0.001998</td>\n",
       "      <td>0.000667</td>\n",
       "      <td>0.000333</td>\n",
       "      <td>0.0000</td>\n",
       "      <td>0.0300</td>\n",
       "    </tr>\n",
       "    <tr>\n",
       "      <th>4</th>\n",
       "      <td>-0.000992</td>\n",
       "      <td>-0.001774</td>\n",
       "      <td>-0.002476</td>\n",
       "      <td>-0.003054</td>\n",
       "      <td>-0.003212</td>\n",
       "      <td>0.0300</td>\n",
       "      <td>-0.0135</td>\n",
       "    </tr>\n",
       "    <tr>\n",
       "      <th>5</th>\n",
       "      <td>0.001692</td>\n",
       "      <td>0.000457</td>\n",
       "      <td>-0.000426</td>\n",
       "      <td>-0.001121</td>\n",
       "      <td>-0.001308</td>\n",
       "      <td>-0.0135</td>\n",
       "      <td>0.0060</td>\n",
       "    </tr>\n",
       "  </tbody>\n",
       "</table>\n",
       "</div>"
      ],
      "text/plain": [
       "        MA5      MA10      MA20      MA60     MA120       t     t+1\n",
       "1 -0.030000 -0.030000 -0.030000 -0.030000 -0.030000     NaN -0.0300\n",
       "2 -0.012000 -0.013500 -0.014250 -0.014750 -0.014875 -0.0300  0.0000\n",
       "3  0.007895  0.003987  0.001998  0.000667  0.000333  0.0000  0.0300\n",
       "4 -0.000992 -0.001774 -0.002476 -0.003054 -0.003212  0.0300 -0.0135\n",
       "5  0.001692  0.000457 -0.000426 -0.001121 -0.001308 -0.0135  0.0060"
      ]
     },
     "execution_count": 91,
     "metadata": {},
     "output_type": "execute_result"
    }
   ],
   "source": [
    "\n",
    "USD_supervised.head()"
   ]
  },
  {
   "cell_type": "code",
   "execution_count": 92,
   "metadata": {},
   "outputs": [
    {
     "data": {
      "text/html": [
       "<div>\n",
       "<style scoped>\n",
       "    .dataframe tbody tr th:only-of-type {\n",
       "        vertical-align: middle;\n",
       "    }\n",
       "\n",
       "    .dataframe tbody tr th {\n",
       "        vertical-align: top;\n",
       "    }\n",
       "\n",
       "    .dataframe thead th {\n",
       "        text-align: right;\n",
       "    }\n",
       "</style>\n",
       "<table border=\"1\" class=\"dataframe\">\n",
       "  <thead>\n",
       "    <tr style=\"text-align: right;\">\n",
       "      <th></th>\n",
       "      <th>MA5</th>\n",
       "      <th>MA10</th>\n",
       "      <th>MA20</th>\n",
       "      <th>MA60</th>\n",
       "      <th>MA120</th>\n",
       "      <th>t</th>\n",
       "      <th>t+1</th>\n",
       "    </tr>\n",
       "  </thead>\n",
       "  <tbody>\n",
       "    <tr>\n",
       "      <th>2</th>\n",
       "      <td>-0.012000</td>\n",
       "      <td>-0.013500</td>\n",
       "      <td>-0.014250</td>\n",
       "      <td>-0.014750</td>\n",
       "      <td>-0.014875</td>\n",
       "      <td>-0.0300</td>\n",
       "      <td>0.0000</td>\n",
       "    </tr>\n",
       "    <tr>\n",
       "      <th>3</th>\n",
       "      <td>0.007895</td>\n",
       "      <td>0.003987</td>\n",
       "      <td>0.001998</td>\n",
       "      <td>0.000667</td>\n",
       "      <td>0.000333</td>\n",
       "      <td>0.0000</td>\n",
       "      <td>0.0300</td>\n",
       "    </tr>\n",
       "    <tr>\n",
       "      <th>4</th>\n",
       "      <td>-0.000992</td>\n",
       "      <td>-0.001774</td>\n",
       "      <td>-0.002476</td>\n",
       "      <td>-0.003054</td>\n",
       "      <td>-0.003212</td>\n",
       "      <td>0.0300</td>\n",
       "      <td>-0.0135</td>\n",
       "    </tr>\n",
       "    <tr>\n",
       "      <th>5</th>\n",
       "      <td>0.001692</td>\n",
       "      <td>0.000457</td>\n",
       "      <td>-0.000426</td>\n",
       "      <td>-0.001121</td>\n",
       "      <td>-0.001308</td>\n",
       "      <td>-0.0135</td>\n",
       "      <td>0.0060</td>\n",
       "    </tr>\n",
       "    <tr>\n",
       "      <th>6</th>\n",
       "      <td>0.014777</td>\n",
       "      <td>0.010079</td>\n",
       "      <td>0.007575</td>\n",
       "      <td>0.005864</td>\n",
       "      <td>0.005433</td>\n",
       "      <td>0.0060</td>\n",
       "      <td>0.0375</td>\n",
       "    </tr>\n",
       "  </tbody>\n",
       "</table>\n",
       "</div>"
      ],
      "text/plain": [
       "        MA5      MA10      MA20      MA60     MA120       t     t+1\n",
       "2 -0.012000 -0.013500 -0.014250 -0.014750 -0.014875 -0.0300  0.0000\n",
       "3  0.007895  0.003987  0.001998  0.000667  0.000333  0.0000  0.0300\n",
       "4 -0.000992 -0.001774 -0.002476 -0.003054 -0.003212  0.0300 -0.0135\n",
       "5  0.001692  0.000457 -0.000426 -0.001121 -0.001308 -0.0135  0.0060\n",
       "6  0.014777  0.010079  0.007575  0.005864  0.005433  0.0060  0.0375"
      ]
     },
     "execution_count": 92,
     "metadata": {},
     "output_type": "execute_result"
    }
   ],
   "source": [
    "# remove null rows\n",
    "USD_supervised.dropna(inplace=True)\n",
    "USD_supervised.head()"
   ]
  },
  {
   "cell_type": "code",
   "execution_count": 93,
   "metadata": {},
   "outputs": [
    {
     "data": {
      "text/plain": [
       "<matplotlib.axes._subplots.AxesSubplot at 0x1993ab10470>"
      ]
     },
     "execution_count": 93,
     "metadata": {},
     "output_type": "execute_result"
    },
    {
     "data": {
      "image/png": "[encoded data removed]",
      "text/plain": [
       "<Figure size 432x288 with 1 Axes>"
      ]
     },
     "metadata": {},
     "output_type": "display_data"
    }
   ],
   "source": [
    "USD_supervised.plot()"
   ]
  },
  {
   "cell_type": "code",
   "execution_count": 94,
   "metadata": {},
   "outputs": [
    {
     "data": {
      "text/plain": [
       "(1641, 7)"
      ]
     },
     "execution_count": 94,
     "metadata": {},
     "output_type": "execute_result"
    }
   ],
   "source": [
    "USD_supervised.shape"
   ]
  },
  {
   "cell_type": "code",
   "execution_count": 95,
   "metadata": {},
   "outputs": [],
   "source": [
    "#defining input(x) and output(Y) values    \n",
    "# isolating X and Y columns\n",
    "X = USD_supervised.iloc[:,:-1]\n",
    "y = USD_supervised.iloc[:,-1]\n",
    "\n",
    "# calculate train data size\n",
    "train_size = int(len(USD_supervised)*0.8)\n",
    "    \n",
    "# split\n",
    "X_train, y_train = X[0:train_size], y[0:train_size]\n",
    "X_test, y_test = X[train_size:len(X)], y[train_size:len(y)]\n",
    "    \n",
    "#X_train,y_train,X_test,y_test"
   ]
  },
  {
   "cell_type": "code",
   "execution_count": 96,
   "metadata": {
    "scrolled": true
   },
   "outputs": [
    {
     "name": "stdout",
     "output_type": "stream",
     "text": [
      "Length of train data : 1312\n",
      "**************\n",
      "Length of test data : 329\n"
     ]
    }
   ],
   "source": [
    "print('Length of train data :',train_size)\n",
    "print('**************')\n",
    "print('Length of test data :',len(USD_supervised)-train_size)"
   ]
  },
  {
   "cell_type": "markdown",
   "metadata": {},
   "source": [
    "### SVR"
   ]
  },
  {
   "cell_type": "code",
   "execution_count": 74,
   "metadata": {},
   "outputs": [],
   "source": [
    "# import packages\n",
    "from sklearn.svm import SVR\n",
    "from sklearn import metrics\n",
    "from sklearn.metrics import accuracy_score"
   ]
  },
  {
   "cell_type": "markdown",
   "metadata": {},
   "source": [
    "#### Metrics evaluation"
   ]
  },
  {
   "cell_type": "code",
   "execution_count": 75,
   "metadata": {},
   "outputs": [],
   "source": [
    "def mean_absolute(actural_y,pred_y):\n",
    "    return(metrics.mean_absolute_error(actural_y, pred_y))"
   ]
  },
  {
   "cell_type": "code",
   "execution_count": 76,
   "metadata": {},
   "outputs": [],
   "source": [
    "def mean_squared(actural_y,pred_y):\n",
    "    return(metrics.mean_squared_error(actural_y,pred_y))"
   ]
  },
  {
   "cell_type": "code",
   "execution_count": 77,
   "metadata": {},
   "outputs": [],
   "source": [
    "def root_mean(actural_y,pred_y):\n",
    "    return(np.sqrt(metrics.mean_squared_error(actural_y,pred_y)))"
   ]
  },
  {
   "cell_type": "markdown",
   "metadata": {},
   "source": [
    "#### Invert difference"
   ]
  },
  {
   "cell_type": "code",
   "execution_count": 78,
   "metadata": {},
   "outputs": [],
   "source": [
    "def invert_difference(orign_data, diff_data, interval):\n",
    "    return[diff_data[i-interval]+orign_data[i-interval] for i in range(interval,len(orign_data))]"
   ]
  },
  {
   "cell_type": "markdown",
   "metadata": {},
   "source": [
    "#### true y values"
   ]
  },
  {
   "cell_type": "code",
   "execution_count": 98,
   "metadata": {},
   "outputs": [],
   "source": [
    "true_y = USD.iloc[train_size:,1].values\n",
    "date = USD.iloc[train_size:,0].values"
   ]
  },
  {
   "cell_type": "markdown",
   "metadata": {},
   "source": [
    "##### Linear Kernel "
   ]
  },
  {
   "cell_type": "code",
   "execution_count": 114,
   "metadata": {
    "scrolled": false
   },
   "outputs": [],
   "source": [
    "svr_linear = pd.DataFrame({'C': [], 'epsilon': [], 'test-R2': [], 'train-R2': [], 'MAE': [], 'MSE': [], 'RMSE': []})\n",
    "for C in [0.01,0.1,1,10,100]:\n",
    "    for epsilon in [0.001,0.01,0.1]:\n",
    "        linear_model = SVR(C=C,epsilon=epsilon,kernel='linear')\n",
    "        \n",
    "        #train\n",
    "        linear_model.fit(X_train,y_train)\n",
    "        \n",
    "        #predict\n",
    "        linear_pred = linear_model.predict(X_test)\n",
    "        \n",
    "        # Evaluate\n",
    "        R2_score = linear_model.score(X_test,y_test)\n",
    "        train_score = linear_model.score(X_train,y_train)\n",
    "        MAE = mean_absolute(y_test,linear_pred)\n",
    "        MSE = mean_squared(y_test,linear_pred)\n",
    "        RMSE = root_mean(y_test,linear_pred)\n",
    "        \n",
    "        # form dataframe\n",
    "        svr_linear = svr_linear.append({'C': C, 'epsilon': epsilon, 'test-R2': R2_score , 'train-R2': train_score ,'MAE': MAE, 'MSE': MSE, 'RMSE': RMSE}, ignore_index=True)\n",
    "        \n",
    "        # best predicted y values\n",
    "        if R2_score == max(svr_linear['test-R2']):\n",
    "            linear_pred = linear_pred\n",
    "\n",
    "#Invert difference of best predicted y values\n",
    "linear_pred_y = invert_difference(true_y, linear_pred, 1)"
   ]
  },
  {
   "cell_type": "code",
   "execution_count": 174,
   "metadata": {
    "scrolled": true
   },
   "outputs": [
    {
     "name": "stdout",
     "output_type": "stream",
     "text": [
      "      C  epsilon   test-R2  train-R2       MAE       MSE      RMSE\n",
      "0  0.01    0.001  0.115467  0.101797  0.034903  0.003324  0.057653\n",
      "1  0.01    0.010  0.122591  0.101386  0.034809  0.003297  0.057421\n",
      "2  0.01    0.100  0.036851  0.029148  0.036414  0.003619  0.060161\n",
      "3  0.10    0.001  0.582248  0.521323  0.024392  0.001570  0.039621\n",
      "4  0.10    0.010  0.582168  0.516142  0.024417  0.001570  0.039625\n",
      "5  0.10    0.100  0.234506  0.205869  0.032500  0.002877  0.053634\n",
      "6  1.00    0.001  0.897516  0.838906  0.013178  0.000385  0.019624\n",
      "7  1.00    0.010  0.886908  0.824358  0.013837  0.000425  0.020615\n",
      "\n",
      "***************\n",
      "\n",
      "        C  epsilon   test-R2  train-R2       MAE       MSE      RMSE\n",
      "8     1.0    0.100  0.638986  0.547899  0.023806  0.001357  0.036832\n",
      "9    10.0    0.001  0.946389  0.914633  0.009542  0.000201  0.014194\n",
      "10   10.0    0.010  0.942204  0.906533  0.009985  0.000217  0.014737\n",
      "11   10.0    0.100  0.841115  0.744938  0.016967  0.000597  0.024435\n",
      "12  100.0    0.001  0.962740  0.944173  0.007876  0.000140  0.011833\n",
      "13  100.0    0.010  0.961721  0.941520  0.007992  0.000144  0.011994\n",
      "14  100.0    0.100  0.884590  0.816422  0.014372  0.000434  0.020825\n",
      "\n",
      "***************\n",
      "\n",
      "Best linear score: \n",
      "\n",
      "        C  epsilon  test-R2  train-R2       MAE      MSE      RMSE\n",
      "12  100.0    0.001  0.96274  0.944173  0.007876  0.00014  0.011833\n"
     ]
    }
   ],
   "source": [
    "print(svr_linear.head(8))\n",
    "print('\\n'+'***************'+'\\n')\n",
    "print(svr_linear.tail(7))\n",
    "print('\\n'+'***************'+'\\n')\n",
    "print('Best linear score: \\n')\n",
    "best_linear_model = svr_linear[(svr_linear['test-R2']==max(svr_linear['test-R2']))]\n",
    "print(best_linear_model)"
   ]
  },
  {
   "cell_type": "code",
   "execution_count": 116,
   "metadata": {},
   "outputs": [],
   "source": [
    "# save output to latex table\n",
    "with open('linear.tex','w') as tf:\n",
    "    tf.write(svr_linear.to_latex())"
   ]
  },
  {
   "cell_type": "markdown",
   "metadata": {},
   "source": [
    "#### Polynomial Kernel Function"
   ]
  },
  {
   "cell_type": "code",
   "execution_count": 118,
   "metadata": {},
   "outputs": [],
   "source": [
    "svr_poly = pd.DataFrame({'C': [], 'epsilon': [], 'test-R2': [], 'train-R2': [], 'MAE': [], 'MSE': [], 'RMSE': []})\n",
    "for C in [0.01,0.1,1,10,100]:\n",
    "    for epsilon in [0.001,0.01,0.1]:\n",
    "        poly_model = SVR(C=C,epsilon=epsilon,kernel='poly',degree=1)\n",
    "            \n",
    "        #train\n",
    "        poly_model.fit(X_train,y_train)\n",
    "        \n",
    "        #predict\n",
    "        poly_pred = poly_model.predict(X_test)\n",
    "        \n",
    "        # Evaluate\n",
    "        R2_score = poly_model.score(X_test,y_test)\n",
    "        tra_score = poly_model.score(X_train,y_train)\n",
    "        MAE = mean_absolute(y_test,poly_pred)\n",
    "        MSE = mean_squared(y_test,poly_pred)\n",
    "        RMSE = root_mean(y_test,poly_pred)\n",
    "        \n",
    "        # form dataframe\n",
    "        svr_poly = svr_poly.append({'C': C, 'epsilon': epsilon, 'test-R2': R2_score , 'train-R2': tra_score, 'MAE': MAE, 'MSE': MSE, 'RMSE': RMSE}, ignore_index=True)\n",
    "            \n",
    "        # best predicted y values\n",
    "        if R2_score == max(svr_poly['test-R2']):\n",
    "            poly_pred = poly_pred\n",
    "                \n",
    "#Invert difference of best predicted y values                \n",
    "poly_pred_y = invert_difference(true_y, poly_pred, 1)"
   ]
  },
  {
   "cell_type": "code",
   "execution_count": 173,
   "metadata": {},
   "outputs": [
    {
     "name": "stdout",
     "output_type": "stream",
     "text": [
      "        C  epsilon   test-R2  train-R2       MAE       MSE      RMSE\n",
      "0    0.01    0.001  0.021346  0.018210  0.036707  0.003678  0.060643\n",
      "1    0.01    0.010  0.021848  0.017966  0.036729  0.003676  0.060628\n",
      "2    0.01    0.100  0.004930  0.003446  0.036997  0.003739  0.061150\n",
      "3    0.10    0.001  0.179437  0.160140  0.033642  0.003084  0.055529\n",
      "4    0.10    0.010  0.186015  0.159228  0.033542  0.003059  0.055306\n",
      "5    0.10    0.100  0.055890  0.045632  0.036047  0.003548  0.059563\n",
      "6    1.00    0.001  0.705382  0.635341  0.020847  0.001107  0.033273\n",
      "7    1.00    0.010  0.694952  0.623532  0.021187  0.001146  0.033857\n",
      "8    1.00    0.100  0.305595  0.283436  0.030992  0.002609  0.051083\n",
      "9   10.00    0.001  0.915554  0.863621  0.012005  0.000317  0.017814\n",
      "10  10.00    0.010  0.908114  0.853113  0.012578  0.000345  0.018582\n",
      "\n",
      "***************\n",
      "\n",
      "        C  epsilon   test-R2  train-R2       MAE       MSE      RMSE\n",
      "5     0.1    0.100  0.055890  0.045632  0.036047  0.003548  0.059563\n",
      "6     1.0    0.001  0.705382  0.635341  0.020847  0.001107  0.033273\n",
      "7     1.0    0.010  0.694952  0.623532  0.021187  0.001146  0.033857\n",
      "8     1.0    0.100  0.305595  0.283436  0.030992  0.002609  0.051083\n",
      "9    10.0    0.001  0.915554  0.863621  0.012005  0.000317  0.017814\n",
      "10   10.0    0.010  0.908114  0.853113  0.012578  0.000345  0.018582\n",
      "11   10.0    0.100  0.723755  0.646652  0.020357  0.001038  0.032219\n",
      "12  100.0    0.001  0.951658  0.924342  0.009004  0.000182  0.013478\n",
      "13  100.0    0.010  0.947827  0.916523  0.009439  0.000196  0.014002\n",
      "14  100.0    0.100  0.853365  0.768511  0.016448  0.000551  0.023474\n",
      "\n",
      "***************\n",
      "\n",
      "Best Polynomial Score: \n",
      "\n",
      "        C  epsilon   test-R2  train-R2       MAE       MSE      RMSE\n",
      "12  100.0    0.001  0.951658  0.924342  0.009004  0.000182  0.013478\n"
     ]
    }
   ],
   "source": [
    "print(svr_poly.head(11))\n",
    "print('\\n'+'***************'+'\\n')\n",
    "print(svr_poly.tail(10))\n",
    "print('\\n'+'***************'+'\\n')\n",
    "print('Best Polynomial Score: \\n')\n",
    "best_poly_model = svr_poly[(svr_poly['test-R2']==max(svr_poly['test-R2']))]\n",
    "print(best_poly_model)"
   ]
  },
  {
   "cell_type": "code",
   "execution_count": 121,
   "metadata": {},
   "outputs": [],
   "source": [
    "# save output to latex table\n",
    "svr_poly = pd.DataFrame(svr_poly)\n",
    "with open('poly.tex','w') as tf:\n",
    "    tf.write(svr_poly.to_latex())"
   ]
  },
  {
   "cell_type": "code",
   "execution_count": null,
   "metadata": {},
   "outputs": [],
   "source": []
  },
  {
   "cell_type": "code",
   "execution_count": null,
   "metadata": {},
   "outputs": [],
   "source": []
  },
  {
   "cell_type": "markdown",
   "metadata": {},
   "source": [
    "#### rbf kernel function"
   ]
  },
  {
   "cell_type": "code",
   "execution_count": 167,
   "metadata": {},
   "outputs": [],
   "source": [
    "svr_rbf = pd.DataFrame({'C': [], 'epsilon': [], 'test-R2': [], 'train-R2': [], 'MAE': [], 'MSE': [], 'RMSE': []})\n",
    "for C in [0.01,0.1,1,10,100]:\n",
    "    for epsilon in [0.001,0.01,0.1]:\n",
    "        rbf_model = SVR(C=C,epsilon=epsilon,kernel='rbf',gamma=1)\n",
    "            \n",
    "        #train\n",
    "        rbf_model.fit(X_train,y_train)\n",
    "        \n",
    "        #predict\n",
    "        rbf_pred = rbf_model.predict(X_test)\n",
    "        \n",
    "        # Evaluate\n",
    "        R2_score = rbf_model.score(X_test,y_test)\n",
    "        tra_score = rbf_model.score(X_train,y_train)\n",
    "        MAE = mean_absolute(y_test,rbf_pred)\n",
    "        MSE = mean_squared(y_test,rbf_pred)\n",
    "        RMSE = root_mean(y_test,rbf_pred)\n",
    "            \n",
    "        # form dataframe\n",
    "        svr_rbf = svr_rbf.append({'C': C, 'epsilon': epsilon, 'test-R2': R2_score , 'train-R2': tra_score, 'MAE': MAE, 'MSE': MSE, 'RMSE': RMSE}, ignore_index=True)\n",
    "            \n",
    "        # best predicted y values\n",
    "        if R2_score == max(svr_rbf['test-R2']):\n",
    "            rbf_pred = rbf_pred\n",
    "\n",
    "#Invert difference of best predicted y values\n",
    "rbf_pred_y = invert_difference(true_y, rbf_pred, 1)"
   ]
  },
  {
   "cell_type": "code",
   "execution_count": 172,
   "metadata": {},
   "outputs": [
    {
     "name": "stdout",
     "output_type": "stream",
     "text": [
      "        C  epsilon   test-R2  train-R2       MAE       MSE      RMSE\n",
      "0    0.01    0.001  0.201433  0.183319  0.033126  0.003001  0.054780\n",
      "1    0.01    0.010  0.206711  0.181211  0.033051  0.002981  0.054599\n",
      "2    0.01    0.100  0.064123  0.053826  0.035879  0.003517  0.059303\n",
      "3    0.10    0.001  0.726944  0.664761  0.019956  0.001026  0.032033\n",
      "4    0.10    0.010  0.713270  0.651345  0.020393  0.001077  0.032825\n",
      "5    0.10    0.100  0.332924  0.313602  0.030287  0.002507  0.050067\n",
      "6    1.00    0.001  0.915954  0.872977  0.011625  0.000316  0.017772\n",
      "7    1.00    0.010  0.905066  0.861811  0.012327  0.000357  0.018888\n",
      "8    1.00    0.100  0.733017  0.661501  0.019925  0.001003  0.031674\n",
      "9   10.00    0.001  0.948308  0.928279  0.008958  0.000194  0.013937\n",
      "10  10.00    0.010  0.945963  0.921009  0.009269  0.000203  0.014250\n",
      "\n",
      "***************\n",
      "\n",
      "        C  epsilon   test-R2  train-R2       MAE       MSE      RMSE\n",
      "5     0.1    0.100  0.332924  0.313602  0.030287  0.002507  0.050067\n",
      "6     1.0    0.001  0.915954  0.872977  0.011625  0.000316  0.017772\n",
      "7     1.0    0.010  0.905066  0.861811  0.012327  0.000357  0.018888\n",
      "8     1.0    0.100  0.733017  0.661501  0.019925  0.001003  0.031674\n",
      "9    10.0    0.001  0.948308  0.928279  0.008958  0.000194  0.013937\n",
      "10   10.0    0.010  0.945963  0.921009  0.009269  0.000203  0.014250\n",
      "11   10.0    0.100  0.850161  0.782843  0.015978  0.000563  0.023729\n",
      "12  100.0    0.001  0.964385  0.948258  0.007670  0.000134  0.011569\n",
      "13  100.0    0.010  0.958856  0.946615  0.007929  0.000155  0.012434\n",
      "14  100.0    0.100  0.879205  0.816507  0.014648  0.000454  0.021305\n",
      "\n",
      "***************\n",
      "\n",
      "Best rbf score: \n",
      "\n",
      "        C  epsilon   test-R2  train-R2      MAE       MSE      RMSE\n",
      "12  100.0    0.001  0.964385  0.948258  0.00767  0.000134  0.011569\n"
     ]
    }
   ],
   "source": [
    "print(svr_rbf.head(11))\n",
    "print('\\n'+'***************'+'\\n')\n",
    "print(svr_rbf.tail(10))\n",
    "print('\\n'+'***************'+'\\n')\n",
    "print('Best rbf score: \\n')\n",
    "best_rbf_model = svr_rbf[(svr_rbf['test-R2']==max(svr_rbf['test-R2']))]\n",
    "print(best_rbf_model)"
   ]
  },
  {
   "cell_type": "code",
   "execution_count": 169,
   "metadata": {},
   "outputs": [],
   "source": [
    "# save output to latex table\n",
    "svr_rbf = pd.DataFrame(svr_rbf)\n",
    "with open('rbf.tex','w') as tf:\n",
    "    tf.write(svr_rbf.to_latex())"
   ]
  },
  {
   "cell_type": "markdown",
   "metadata": {},
   "source": [
    "#### Save predicted test data to file\n",
    "Created a dataframe to save test data set of all three kernel functions "
   ]
  },
  {
   "cell_type": "code",
   "execution_count": 170,
   "metadata": {
    "scrolled": true
   },
   "outputs": [
    {
     "data": {
      "text/html": [
       "<div>\n",
       "<style scoped>\n",
       "    .dataframe tbody tr th:only-of-type {\n",
       "        vertical-align: middle;\n",
       "    }\n",
       "\n",
       "    .dataframe tbody tr th {\n",
       "        vertical-align: top;\n",
       "    }\n",
       "\n",
       "    .dataframe thead th {\n",
       "        text-align: right;\n",
       "    }\n",
       "</style>\n",
       "<table border=\"1\" class=\"dataframe\">\n",
       "  <thead>\n",
       "    <tr style=\"text-align: right;\">\n",
       "      <th></th>\n",
       "      <th>Date</th>\n",
       "      <th>true-y</th>\n",
       "      <th>linear</th>\n",
       "      <th>rbf</th>\n",
       "      <th>poly</th>\n",
       "    </tr>\n",
       "  </thead>\n",
       "  <tbody>\n",
       "    <tr>\n",
       "      <th>0</th>\n",
       "      <td>2019-01-15</td>\n",
       "      <td>4.8954</td>\n",
       "      <td>4.905255</td>\n",
       "      <td>4.903148</td>\n",
       "      <td>4.900131</td>\n",
       "    </tr>\n",
       "    <tr>\n",
       "      <th>1</th>\n",
       "      <td>2019-01-16</td>\n",
       "      <td>4.9105</td>\n",
       "      <td>4.910180</td>\n",
       "      <td>4.908345</td>\n",
       "      <td>4.904472</td>\n",
       "    </tr>\n",
       "    <tr>\n",
       "      <th>2</th>\n",
       "      <td>2019-01-17</td>\n",
       "      <td>4.9025</td>\n",
       "      <td>4.903041</td>\n",
       "      <td>4.900754</td>\n",
       "      <td>4.899033</td>\n",
       "    </tr>\n",
       "    <tr>\n",
       "      <th>3</th>\n",
       "      <td>2019-01-18</td>\n",
       "      <td>4.9150</td>\n",
       "      <td>4.914668</td>\n",
       "      <td>4.912750</td>\n",
       "      <td>4.909246</td>\n",
       "    </tr>\n",
       "    <tr>\n",
       "      <th>4</th>\n",
       "      <td>2019-01-21</td>\n",
       "      <td>4.9112</td>\n",
       "      <td>4.910092</td>\n",
       "      <td>4.907825</td>\n",
       "      <td>4.906057</td>\n",
       "    </tr>\n",
       "  </tbody>\n",
       "</table>\n",
       "</div>"
      ],
      "text/plain": [
       "         Date  true-y    linear       rbf      poly\n",
       "0  2019-01-15  4.8954  4.905255  4.903148  4.900131\n",
       "1  2019-01-16  4.9105  4.910180  4.908345  4.904472\n",
       "2  2019-01-17  4.9025  4.903041  4.900754  4.899033\n",
       "3  2019-01-18  4.9150  4.914668  4.912750  4.909246\n",
       "4  2019-01-21  4.9112  4.910092  4.907825  4.906057"
      ]
     },
     "execution_count": 170,
     "metadata": {},
     "output_type": "execute_result"
    }
   ],
   "source": [
    "# form data frame of predicted values\n",
    "result= pd.DataFrame()\n",
    "\n",
    "result['Date'] = date[1:]\n",
    "result['true-y'] = true_y[1:]\n",
    "result['linear'] = linear_pred_y\n",
    "result['rbf'] = rbf_pred_y\n",
    "result['poly'] = poly_pred_y\n",
    "\n",
    "result.head()"
   ]
  },
  {
   "cell_type": "code",
   "execution_count": 165,
   "metadata": {},
   "outputs": [
    {
     "data": {
      "text/html": [
       "<div>\n",
       "<style scoped>\n",
       "    .dataframe tbody tr th:only-of-type {\n",
       "        vertical-align: middle;\n",
       "    }\n",
       "\n",
       "    .dataframe tbody tr th {\n",
       "        vertical-align: top;\n",
       "    }\n",
       "\n",
       "    .dataframe thead th {\n",
       "        text-align: right;\n",
       "    }\n",
       "</style>\n",
       "<table border=\"1\" class=\"dataframe\">\n",
       "  <thead>\n",
       "    <tr style=\"text-align: right;\">\n",
       "      <th></th>\n",
       "      <th>true-y</th>\n",
       "      <th>linear</th>\n",
       "      <th>rbf</th>\n",
       "      <th>poly</th>\n",
       "    </tr>\n",
       "    <tr>\n",
       "      <th>Date</th>\n",
       "      <th></th>\n",
       "      <th></th>\n",
       "      <th></th>\n",
       "      <th></th>\n",
       "    </tr>\n",
       "  </thead>\n",
       "  <tbody>\n",
       "    <tr>\n",
       "      <th>2019-01-15</th>\n",
       "      <td>4.8954</td>\n",
       "      <td>4.905255</td>\n",
       "      <td>4.903148</td>\n",
       "      <td>4.900131</td>\n",
       "    </tr>\n",
       "    <tr>\n",
       "      <th>2019-01-16</th>\n",
       "      <td>4.9105</td>\n",
       "      <td>4.910180</td>\n",
       "      <td>4.908345</td>\n",
       "      <td>4.904472</td>\n",
       "    </tr>\n",
       "    <tr>\n",
       "      <th>2019-01-17</th>\n",
       "      <td>4.9025</td>\n",
       "      <td>4.903041</td>\n",
       "      <td>4.900754</td>\n",
       "      <td>4.899033</td>\n",
       "    </tr>\n",
       "    <tr>\n",
       "      <th>2019-01-18</th>\n",
       "      <td>4.9150</td>\n",
       "      <td>4.914668</td>\n",
       "      <td>4.912750</td>\n",
       "      <td>4.909246</td>\n",
       "    </tr>\n",
       "    <tr>\n",
       "      <th>2019-01-21</th>\n",
       "      <td>4.9112</td>\n",
       "      <td>4.910092</td>\n",
       "      <td>4.907825</td>\n",
       "      <td>4.906057</td>\n",
       "    </tr>\n",
       "  </tbody>\n",
       "</table>\n",
       "</div>"
      ],
      "text/plain": [
       "            true-y    linear       rbf      poly\n",
       "Date                                            \n",
       "2019-01-15  4.8954  4.905255  4.903148  4.900131\n",
       "2019-01-16  4.9105  4.910180  4.908345  4.904472\n",
       "2019-01-17  4.9025  4.903041  4.900754  4.899033\n",
       "2019-01-18  4.9150  4.914668  4.912750  4.909246\n",
       "2019-01-21  4.9112  4.910092  4.907825  4.906057"
      ]
     },
     "execution_count": 165,
     "metadata": {},
     "output_type": "execute_result"
    }
   ],
   "source": [
    "#set index\n",
    "result.set_index('Date',inplace=True)\n",
    "result.head()"
   ]
  },
  {
   "cell_type": "code",
   "execution_count": 166,
   "metadata": {},
   "outputs": [],
   "source": [
    "# we save the data result.csv to the file\n",
    "result.to_csv('result.csv', sep=',')"
   ]
  },
  {
   "cell_type": "markdown",
   "metadata": {
    "scrolled": true
   },
   "source": [
    "### Save all three best score of the kernel function "
   ]
  },
  {
   "cell_type": "code",
   "execution_count": 180,
   "metadata": {},
   "outputs": [],
   "source": [
    "kernel_funct = pd.concat([best_linear_model,best_poly_model,best_rbf_model])"
   ]
  },
  {
   "cell_type": "code",
   "execution_count": 206,
   "metadata": {
    "scrolled": true
   },
   "outputs": [],
   "source": [
    "# rename index, remove C,epsilon\n",
    "kernel_function = kernel_funct[['test-R2','MAE','MSE','RMSE']]\n",
    "kernel_function.index = ['Linear','Poly','RBF']"
   ]
  },
  {
   "cell_type": "code",
   "execution_count": 207,
   "metadata": {},
   "outputs": [],
   "source": [
    "# we save the data result.csv to the file\n",
    "kernel_function.to_csv('kernel_function.csv', sep=',')"
   ]
  },
  {
   "cell_type": "code",
   "execution_count": null,
   "metadata": {},
   "outputs": [],
   "source": []
  },
  {
   "cell_type": "code",
   "execution_count": 208,
   "metadata": {},
   "outputs": [],
   "source": [
    "# save output to latex table\n",
    "with open('kernel.tex','w') as tf:\n",
    "    tf.write(kernel_function.to_latex())"
   ]
  },
  {
   "cell_type": "code",
   "execution_count": null,
   "metadata": {},
   "outputs": [],
   "source": []
  }
 ],
 "metadata": {
  "kernelspec": {
   "display_name": "Python 3",
   "language": "python",
   "name": "python3"
  },
  "language_info": {
   "codemirror_mode": {
    "name": "ipython",
    "version": 3
   },
   "file_extension": ".py",
   "mimetype": "text/x-python",
   "name": "python",
   "nbconvert_exporter": "python",
   "pygments_lexer": "ipython3",
   "version": "3.6.5"
  }
 },
 "nbformat": 4,
 "nbformat_minor": 2
}
